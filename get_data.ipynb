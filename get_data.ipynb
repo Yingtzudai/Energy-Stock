{
 "cells": [
  {
   "cell_type": "code",
   "execution_count": 1,
   "metadata": {},
   "outputs": [],
   "source": [
    "import pandas as pd\n",
    "import numpy as np\n",
    "import seaborn as sns\n",
    "import matplotlib.pyplot as plt\n",
    "import matplotlib.pyplot as plt\n",
    "import datetime\n",
    "import yfinance as yf\n",
    "from tqdm import tqdm"
   ]
  },
  {
   "cell_type": "code",
   "execution_count": 4,
   "metadata": {},
   "outputs": [],
   "source": [
    "tickers_names = { \"CL=F\": \"Crude Oil\",\n",
    "                  \"HO=F\": \"Heating Oil\",\n",
    "                  \"NG=F\": \"Natural Gas\",\n",
    "                  \"RB=F\": \"RBOB Gasoline\",\n",
    "                  \"BZ=F\": \"Brent Crude Oil\"}"
   ]
  },
  {
   "cell_type": "code",
   "execution_count": 5,
   "metadata": {},
   "outputs": [
    {
     "name": "stderr",
     "output_type": "stream",
     "text": [
      "Fetching data:   0%|          | 0/5 [00:00<?, ?it/s]"
     ]
    },
    {
     "name": "stderr",
     "output_type": "stream",
     "text": [
      "Fetching data: 100%|██████████| 5/5 [00:01<00:00,  3.77it/s]\n"
     ]
    }
   ],
   "source": [
    "# 1. Function to fetch data for a given ticker symbol and commodity name\n",
    "def fetch_data(ticker_symbol, commodity_name):\n",
    "    ticker = yf.Ticker(ticker_symbol)\n",
    "    today = datetime.date.today().strftime('%Y-%m-%d')\n",
    "    data = ticker.history(start=\"1900-01-01\", end=today)\n",
    "    data.reset_index(inplace=True)\n",
    "    \n",
    "    # Check if the 'Date' column is of datetime type\n",
    "    if pd.api.types.is_datetime64_any_dtype(data['Date']):\n",
    "        data['Date'] = data['Date'].dt.strftime('%Y-%m-%d')\n",
    "    \n",
    "    # Drop the unnecessary columns\n",
    "    data.drop(columns=['Dividends', 'Stock Splits', 'Adj Close'], inplace=True, errors='ignore')\n",
    "    \n",
    "    data['ticker'] = ticker_symbol  \n",
    "    data['commodity'] = commodity_name  \n",
    "    \n",
    "    # Convert other column names to lowercase\n",
    "    data.columns = [col.lower() for col in data.columns]\n",
    "    \n",
    "    # Reorder columns to have 'ticker' and 'commodity' at the beginning\n",
    "    data = data[['ticker', 'commodity'] + [col for col in data.columns if col not in ['ticker', 'commodity']]]\n",
    "    \n",
    "    return data\n",
    "\n",
    "\n",
    "# 2. Loop over each symbol and append data to the master DataFrame\n",
    "all_data = []\n",
    "for symbol, name in tqdm(tickers_names.items(), desc=\"Fetching data\"):  # tqdm progress bar!\n",
    "    all_data.append(fetch_data(symbol, name))\n",
    "\n",
    "# Concatenate all the individual datasets into one\n",
    "master_data = pd.concat(all_data, ignore_index=True)"
   ]
  },
  {
   "cell_type": "code",
   "execution_count": 6,
   "metadata": {},
   "outputs": [
    {
     "name": "stdout",
     "output_type": "stream",
     "text": [
      "<class 'pandas.core.frame.DataFrame'>\n",
      "RangeIndex: 28789 entries, 0 to 28788\n",
      "Data columns (total 8 columns):\n",
      " #   Column     Non-Null Count  Dtype  \n",
      "---  ------     --------------  -----  \n",
      " 0   ticker     28789 non-null  object \n",
      " 1   commodity  28789 non-null  object \n",
      " 2   date       28789 non-null  object \n",
      " 3   open       28789 non-null  float64\n",
      " 4   high       28789 non-null  float64\n",
      " 5   low        28789 non-null  float64\n",
      " 6   close      28789 non-null  float64\n",
      " 7   volume     28789 non-null  int64  \n",
      "dtypes: float64(4), int64(1), object(3)\n",
      "memory usage: 1.8+ MB\n"
     ]
    }
   ],
   "source": [
    "master_data.info()"
   ]
  }
 ],
 "metadata": {
  "kernelspec": {
   "display_name": "venv",
   "language": "python",
   "name": "python3"
  },
  "language_info": {
   "codemirror_mode": {
    "name": "ipython",
    "version": 3
   },
   "file_extension": ".py",
   "mimetype": "text/x-python",
   "name": "python",
   "nbconvert_exporter": "python",
   "pygments_lexer": "ipython3",
   "version": "3.10.4"
  }
 },
 "nbformat": 4,
 "nbformat_minor": 2
}
